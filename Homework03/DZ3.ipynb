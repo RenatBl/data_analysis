{
 "cells": [
  {
   "cell_type": "code",
   "execution_count": 1,
   "metadata": {},
   "outputs": [],
   "source": [
    "import numpy as np\n",
    "import pandas as pd\n",
    "import pylab as pl\n",
    "import matplotlib.pyplot as plt\n",
    "plt.style.use('ggplot')\n",
    "%matplotlib inline\n",
    "import seaborn as sns"
   ]
  },
  {
   "cell_type": "code",
   "execution_count": 2,
   "metadata": {},
   "outputs": [
    {
     "name": "stdout",
     "output_type": "stream",
     "text": [
      "(22223, 13)\n",
      "<class 'pandas.core.frame.DataFrame'>\n",
      "RangeIndex: 22223 entries, 0 to 22222\n",
      "Data columns (total 13 columns):\n",
      " #   Column           Non-Null Count  Dtype  \n",
      "---  ------           --------------  -----  \n",
      " 0   п»їID            22223 non-null  int64  \n",
      " 1   DemAffl          21138 non-null  float64\n",
      " 2   DemAge           20715 non-null  float64\n",
      " 3   DemCluster       21549 non-null  float64\n",
      " 4   DemClusterGroup  21549 non-null  object \n",
      " 5   DemGender        19711 non-null  object \n",
      " 6   DemReg           21758 non-null  object \n",
      " 7   DemTVReg         21758 non-null  object \n",
      " 8   PromClass        22223 non-null  object \n",
      " 9   PromSpend        22223 non-null  float64\n",
      " 10  PromTime         21942 non-null  float64\n",
      " 11  TargetBuy        22223 non-null  int64  \n",
      " 12  TargetAmt        22223 non-null  int64  \n",
      "dtypes: float64(5), int64(3), object(5)\n",
      "memory usage: 2.2+ MB\n",
      "None\n"
     ]
    }
   ],
   "source": [
    "df=pd.read_csv(\"ORGANICS.csv\", encoding=\"cp1251\")\n",
    "print(df.shape)\n",
    "print(df.info())"
   ]
  },
  {
   "cell_type": "code",
   "execution_count": 3,
   "metadata": {},
   "outputs": [
    {
     "name": "stdout",
     "output_type": "stream",
     "text": [
      "          п»їID  DemAffl  DemAge  DemCluster DemClusterGroup DemGender  \\\n",
      "0           140     10.0    76.0        16.0               C         U   \n",
      "1           620      4.0    49.0        35.0               D         U   \n",
      "2           868      5.0    70.0        27.0               D         F   \n",
      "3          1120     10.0    65.0        51.0               F         M   \n",
      "4          2313     11.0    68.0         4.0               A         F   \n",
      "...         ...      ...     ...         ...             ...       ...   \n",
      "22216  52830893     13.0    49.0         8.0               B         M   \n",
      "22218  52834058     13.0    65.0         9.0               B         F   \n",
      "22219  52834376     15.0    73.0        34.0               D         U   \n",
      "22220  52837057      9.0    70.0        15.0               B         F   \n",
      "22221  52838096     11.0    66.0         8.0               B         F   \n",
      "\n",
      "           DemReg      DemTVReg PromClass  PromSpend  PromTime  TargetBuy  \\\n",
      "0        Midlands  Wales & West      Gold   16000.00       4.0          0   \n",
      "1        Midlands  Wales & West      Gold    6000.00       5.0          0   \n",
      "2        Midlands  Wales & West    Silver       0.02       8.0          1   \n",
      "3        Midlands      Midlands       Tin       0.01       7.0          1   \n",
      "4        Midlands      Midlands       Tin       0.01       8.0          0   \n",
      "...           ...           ...       ...        ...       ...        ...   \n",
      "22216  South East        London    Silver     500.00       9.0          0   \n",
      "22218  South East        London    Silver    1500.00       5.0          0   \n",
      "22219  South East    S & S East      Gold    6053.06      12.0          0   \n",
      "22220       North     Yorkshire      Gold    6000.00       5.0          0   \n",
      "22221       North        N West    Silver    5000.00       5.0          0   \n",
      "\n",
      "       TargetAmt  \n",
      "0              0  \n",
      "1              0  \n",
      "2              1  \n",
      "3              1  \n",
      "4              0  \n",
      "...          ...  \n",
      "22216          0  \n",
      "22218          0  \n",
      "22219          0  \n",
      "22220          0  \n",
      "22221          0  \n",
      "\n",
      "[16408 rows x 13 columns]\n"
     ]
    }
   ],
   "source": [
    "dataWithoutNull = df.dropna()\n",
    "print(dataWithoutNull)"
   ]
  },
  {
   "cell_type": "code",
   "execution_count": 4,
   "metadata": {},
   "outputs": [
    {
     "name": "stdout",
     "output_type": "stream",
     "text": [
      "          п»їID  DemAffl  DemAge  DemCluster DemClusterGroup DemGender  \\\n",
      "0           140     10.0    76.0        16.0               C         U   \n",
      "1           620      4.0    49.0        35.0               D         U   \n",
      "2           868      5.0    70.0        27.0               D         F   \n",
      "3          1120     10.0    65.0        51.0               F         M   \n",
      "4          2313     11.0    68.0         4.0               A         F   \n",
      "...         ...      ...     ...         ...             ...       ...   \n",
      "22218  52834058     13.0    65.0         9.0               B         F   \n",
      "22219  52834376     15.0    73.0        34.0               D         U   \n",
      "22220  52837057      9.0    70.0        15.0               B         F   \n",
      "22221  52838096     11.0    66.0         8.0               B         F   \n",
      "22222  52856469      3.0    75.0        53.0               F       NaN   \n",
      "\n",
      "           DemReg      DemTVReg PromClass  PromSpend  PromTime  TargetBuy  \\\n",
      "0        Midlands  Wales & West      Gold   16000.00       4.0          0   \n",
      "1        Midlands  Wales & West      Gold    6000.00       5.0          0   \n",
      "2        Midlands  Wales & West    Silver       0.02       8.0          1   \n",
      "3        Midlands      Midlands       Tin       0.01       7.0          1   \n",
      "4        Midlands      Midlands       Tin       0.01       8.0          0   \n",
      "...           ...           ...       ...        ...       ...        ...   \n",
      "22218  South East        London    Silver    1500.00       5.0          0   \n",
      "22219  South East    S & S East      Gold    6053.06      12.0          0   \n",
      "22220       North     Yorkshire      Gold    6000.00       5.0          0   \n",
      "22221       North        N West    Silver    5000.00       5.0          0   \n",
      "22222  South West        S West      Gold    6000.00       2.0          0   \n",
      "\n",
      "       TargetAmt  \n",
      "0              0  \n",
      "1              0  \n",
      "2              1  \n",
      "3              1  \n",
      "4              0  \n",
      "...          ...  \n",
      "22218          0  \n",
      "22219          0  \n",
      "22220          0  \n",
      "22221          0  \n",
      "22222          0  \n",
      "\n",
      "[22223 rows x 13 columns]\n"
     ]
    }
   ],
   "source": [
    "dataAverage = df.fillna(df.mean())\n",
    "print(dataAverage)"
   ]
  },
  {
   "cell_type": "code",
   "execution_count": 5,
   "metadata": {},
   "outputs": [],
   "source": [
    "xWitNull=dataWithoutNull[['DemAffl',  'DemAge', 'DemCluster', 'PromSpend', 'PromTime']]\n",
    "yWitNull=dataWithoutNull.values[::,11]\n",
    "xAverage=dataAverage[['DemAffl',  'DemAge', 'DemCluster', 'PromSpend', 'PromTime']]\n",
    "yAverage=dataAverage.values[::,11]\n",
    "yWitNull=yWitNull.astype('int')\n",
    "yAverage=yAverage.astype('int')"
   ]
  },
  {
   "cell_type": "code",
   "execution_count": 6,
   "metadata": {},
   "outputs": [],
   "source": [
    "from sklearn.model_selection import train_test_split\n",
    "X_train, X_test, y_train, y_test = train_test_split(xWitNull, yWitNull, test_size=0.3)\n",
    "XA_train, XA_test, yA_train, yA_test = train_test_split(xAverage, yAverage, test_size=0.3)"
   ]
  },
  {
   "cell_type": "code",
   "execution_count": 7,
   "metadata": {},
   "outputs": [
    {
     "data": {
      "text/plain": [
       "DecisionTreeClassifier(ccp_alpha=0.0, class_weight=None, criterion='gini',\n",
       "                       max_depth=4, max_features=None, max_leaf_nodes=None,\n",
       "                       min_impurity_decrease=0.0, min_impurity_split=None,\n",
       "                       min_samples_leaf=1, min_samples_split=2,\n",
       "                       min_weight_fraction_leaf=0.0, presort='deprecated',\n",
       "                       random_state=0, splitter='best')"
      ]
     },
     "execution_count": 7,
     "metadata": {},
     "output_type": "execute_result"
    }
   ],
   "source": [
    "from sklearn.tree import DecisionTreeClassifier\n",
    "tree1=DecisionTreeClassifier(max_depth=4, random_state=0)\n",
    "tree1.fit(X_train, y_train)\n",
    "tree2=DecisionTreeClassifier(max_depth=4, random_state=0)\n",
    "tree2.fit(XA_train, yA_train)"
   ]
  },
  {
   "cell_type": "code",
   "execution_count": 8,
   "metadata": {},
   "outputs": [
    {
     "name": "stdout",
     "output_type": "stream",
     "text": [
      "0.800435350457118\n",
      "0.7986999796871826\n",
      "0.8038698894317305\n",
      "0.8027598620068996\n"
     ]
    }
   ],
   "source": [
    "from sklearn.tree import export_graphviz\n",
    "\n",
    "import subprocess\n",
    "\n",
    "export_graphviz(tree1, out_file='C:/Users/Ренат/Desktop/data_analysis/Homework03/Organics_treeWitNull.dot', \n",
    "               rounded = True, proportion = False, \n",
    "                precision = 2, filled = True)\n",
    "\n",
    "export_graphviz(tree2, out_file='C:/Users/Ренат/Desktop/data_analysis/Homework03/Organics_treeA.dot', \n",
    "               rounded = True, proportion = False, \n",
    "                precision = 2, filled = True)\n",
    "\n",
    "import pydot\n",
    "(graphWitNull, ) = pydot.graph_from_dot_file('C:/Users/Ренат/Desktop/data_analysis/Homework03/Organics_treeWitNull.dot')\n",
    "\n",
    "(graphA, ) = pydot.graph_from_dot_file('C:/Users/Ренат/Desktop/data_analysis/Homework03/Organics_treeA.dot')\n",
    "\n",
    "graphWitNull.write_png('C:/Users/Ренат/Desktop/data_analysis/Homework03/Organics_treeWitNull.dot')\n",
    "graphA.write_png('C:/Users/Ренат/Desktop/data_analysis/Homework03/Organics_treeA.dot')\n",
    "\n",
    "print(tree1.score(X_train, y_train)) \n",
    "print(tree1.score(X_test,y_test)) \n",
    "\n",
    "print(tree2.score(XA_train, yA_train)) \n",
    "print(tree2.score(XA_test,yA_test))"
   ]
  },
  {
   "cell_type": "code",
   "execution_count": 9,
   "metadata": {},
   "outputs": [],
   "source": [
    "### DZ1\n",
    "### Обучите решающее дерево с параметрами criterion = entropy и max_depth =5.\n",
    "### Какую точность дает данное дерево на контроле? Визуализируйте разделяющую поверхность."
   ]
  },
  {
   "cell_type": "code",
   "execution_count": 10,
   "metadata": {},
   "outputs": [
    {
     "name": "stdout",
     "output_type": "stream",
     "text": [
      "0.799564649542882\n",
      "0.7964655697745278\n"
     ]
    }
   ],
   "source": [
    "tree=DecisionTreeClassifier(max_depth=5, criterion='entropy')\n",
    "tree.fit(X_train, y_train)\n",
    "\n",
    "print(tree.score(X_train, y_train)) \n",
    "print(tree.score(X_test,y_test))\n",
    "\n",
    "export_graphviz(tree1, out_file='C:/Users/Ренат/Desktop/data_analysis/Homework03/Task1.dot', \n",
    "               rounded = True, proportion = False, \n",
    "                precision = 2, filled = True)\n",
    "(graphR, ) = pydot.graph_from_dot_file('C:/Users/Ренат/Desktop/data_analysis/Homework03/Task1.dot')\n",
    "graphR.write_png('C:/Users/Ренат/Desktop/data_analysis/Homework03/Task1.png')"
   ]
  },
  {
   "cell_type": "code",
   "execution_count": 11,
   "metadata": {},
   "outputs": [],
   "source": [
    "### Выполните предыдущий пункт для разных значений глубины дерева и минимального числа объектов в \n",
    "### листе (параметры max_depth и min_samples_leaf). Результаты запишите в виде таблицы.  \n",
    "### Как эти параметры влияют на вид разделяющей поверхности и точность модели?"
   ]
  },
  {
   "cell_type": "code",
   "execution_count": 12,
   "metadata": {},
   "outputs": [
    {
     "data": {
      "text/html": [
       "<div>\n",
       "<style scoped>\n",
       "    .dataframe tbody tr th:only-of-type {\n",
       "        vertical-align: middle;\n",
       "    }\n",
       "\n",
       "    .dataframe tbody tr th {\n",
       "        vertical-align: top;\n",
       "    }\n",
       "\n",
       "    .dataframe thead th {\n",
       "        text-align: right;\n",
       "    }\n",
       "</style>\n",
       "<table border=\"1\" class=\"dataframe\">\n",
       "  <thead>\n",
       "    <tr style=\"text-align: right;\">\n",
       "      <th></th>\n",
       "      <th>1</th>\n",
       "      <th>2</th>\n",
       "      <th>3</th>\n",
       "      <th>4</th>\n",
       "      <th>5</th>\n",
       "      <th>6</th>\n",
       "      <th>7</th>\n",
       "      <th>8</th>\n",
       "      <th>9</th>\n",
       "      <th>10</th>\n",
       "    </tr>\n",
       "  </thead>\n",
       "  <tbody>\n",
       "    <tr>\n",
       "      <th>1</th>\n",
       "      <td>0.758642</td>\n",
       "      <td>0.758642</td>\n",
       "      <td>0.758642</td>\n",
       "      <td>0.758642</td>\n",
       "      <td>0.758642</td>\n",
       "      <td>0.758642</td>\n",
       "      <td>0.758642</td>\n",
       "      <td>0.758642</td>\n",
       "      <td>0.758642</td>\n",
       "      <td>0.758642</td>\n",
       "    </tr>\n",
       "    <tr>\n",
       "      <th>2</th>\n",
       "      <td>0.782238</td>\n",
       "      <td>0.782238</td>\n",
       "      <td>0.782238</td>\n",
       "      <td>0.782238</td>\n",
       "      <td>0.782238</td>\n",
       "      <td>0.782238</td>\n",
       "      <td>0.782238</td>\n",
       "      <td>0.782238</td>\n",
       "      <td>0.782238</td>\n",
       "      <td>0.782238</td>\n",
       "    </tr>\n",
       "    <tr>\n",
       "      <th>3</th>\n",
       "      <td>0.796865</td>\n",
       "      <td>0.796865</td>\n",
       "      <td>0.796865</td>\n",
       "      <td>0.796865</td>\n",
       "      <td>0.796865</td>\n",
       "      <td>0.796865</td>\n",
       "      <td>0.796865</td>\n",
       "      <td>0.796865</td>\n",
       "      <td>0.796865</td>\n",
       "      <td>0.796865</td>\n",
       "    </tr>\n",
       "    <tr>\n",
       "      <th>4</th>\n",
       "      <td>0.800435</td>\n",
       "      <td>0.800435</td>\n",
       "      <td>0.800435</td>\n",
       "      <td>0.800435</td>\n",
       "      <td>0.800435</td>\n",
       "      <td>0.800435</td>\n",
       "      <td>0.800435</td>\n",
       "      <td>0.800435</td>\n",
       "      <td>0.800435</td>\n",
       "      <td>0.800435</td>\n",
       "    </tr>\n",
       "    <tr>\n",
       "      <th>5</th>\n",
       "      <td>0.801132</td>\n",
       "      <td>0.801045</td>\n",
       "      <td>0.801045</td>\n",
       "      <td>0.801045</td>\n",
       "      <td>0.801045</td>\n",
       "      <td>0.800958</td>\n",
       "      <td>0.800871</td>\n",
       "      <td>0.800784</td>\n",
       "      <td>0.800784</td>\n",
       "      <td>0.800522</td>\n",
       "    </tr>\n",
       "    <tr>\n",
       "      <th>6</th>\n",
       "      <td>0.806356</td>\n",
       "      <td>0.805921</td>\n",
       "      <td>0.805921</td>\n",
       "      <td>0.805921</td>\n",
       "      <td>0.805921</td>\n",
       "      <td>0.805747</td>\n",
       "      <td>0.805485</td>\n",
       "      <td>0.805050</td>\n",
       "      <td>0.805050</td>\n",
       "      <td>0.805050</td>\n",
       "    </tr>\n",
       "    <tr>\n",
       "      <th>7</th>\n",
       "      <td>0.813148</td>\n",
       "      <td>0.812712</td>\n",
       "      <td>0.812190</td>\n",
       "      <td>0.811754</td>\n",
       "      <td>0.811145</td>\n",
       "      <td>0.810971</td>\n",
       "      <td>0.810448</td>\n",
       "      <td>0.809926</td>\n",
       "      <td>0.809926</td>\n",
       "      <td>0.809839</td>\n",
       "    </tr>\n",
       "    <tr>\n",
       "      <th>8</th>\n",
       "      <td>0.819068</td>\n",
       "      <td>0.817936</td>\n",
       "      <td>0.816892</td>\n",
       "      <td>0.816456</td>\n",
       "      <td>0.816369</td>\n",
       "      <td>0.815324</td>\n",
       "      <td>0.814976</td>\n",
       "      <td>0.814889</td>\n",
       "      <td>0.814628</td>\n",
       "      <td>0.814367</td>\n",
       "    </tr>\n",
       "    <tr>\n",
       "      <th>9</th>\n",
       "      <td>0.827688</td>\n",
       "      <td>0.825512</td>\n",
       "      <td>0.823857</td>\n",
       "      <td>0.823335</td>\n",
       "      <td>0.823596</td>\n",
       "      <td>0.822987</td>\n",
       "      <td>0.821332</td>\n",
       "      <td>0.820984</td>\n",
       "      <td>0.820810</td>\n",
       "      <td>0.820461</td>\n",
       "    </tr>\n",
       "    <tr>\n",
       "      <th>10</th>\n",
       "      <td>0.837527</td>\n",
       "      <td>0.833174</td>\n",
       "      <td>0.831519</td>\n",
       "      <td>0.829168</td>\n",
       "      <td>0.828994</td>\n",
       "      <td>0.827340</td>\n",
       "      <td>0.826034</td>\n",
       "      <td>0.825773</td>\n",
       "      <td>0.825250</td>\n",
       "      <td>0.823944</td>\n",
       "    </tr>\n",
       "  </tbody>\n",
       "</table>\n",
       "</div>"
      ],
      "text/plain": [
       "           1         2         3         4         5         6         7  \\\n",
       "1   0.758642  0.758642  0.758642  0.758642  0.758642  0.758642  0.758642   \n",
       "2   0.782238  0.782238  0.782238  0.782238  0.782238  0.782238  0.782238   \n",
       "3   0.796865  0.796865  0.796865  0.796865  0.796865  0.796865  0.796865   \n",
       "4   0.800435  0.800435  0.800435  0.800435  0.800435  0.800435  0.800435   \n",
       "5   0.801132  0.801045  0.801045  0.801045  0.801045  0.800958  0.800871   \n",
       "6   0.806356  0.805921  0.805921  0.805921  0.805921  0.805747  0.805485   \n",
       "7   0.813148  0.812712  0.812190  0.811754  0.811145  0.810971  0.810448   \n",
       "8   0.819068  0.817936  0.816892  0.816456  0.816369  0.815324  0.814976   \n",
       "9   0.827688  0.825512  0.823857  0.823335  0.823596  0.822987  0.821332   \n",
       "10  0.837527  0.833174  0.831519  0.829168  0.828994  0.827340  0.826034   \n",
       "\n",
       "           8         9        10  \n",
       "1   0.758642  0.758642  0.758642  \n",
       "2   0.782238  0.782238  0.782238  \n",
       "3   0.796865  0.796865  0.796865  \n",
       "4   0.800435  0.800435  0.800435  \n",
       "5   0.800784  0.800784  0.800522  \n",
       "6   0.805050  0.805050  0.805050  \n",
       "7   0.809926  0.809926  0.809839  \n",
       "8   0.814889  0.814628  0.814367  \n",
       "9   0.820984  0.820810  0.820461  \n",
       "10  0.825773  0.825250  0.823944  "
      ]
     },
     "execution_count": 12,
     "metadata": {},
     "output_type": "execute_result"
    }
   ],
   "source": [
    "datanp = np.zeros((10,10),dtype=float)\n",
    "for depth in range(1,11):\n",
    "    for leaf in range(1,11):\n",
    "        tree=DecisionTreeClassifier(max_depth=depth, min_samples_leaf=leaf)\n",
    "        tree.fit(X_train, y_train)\n",
    "        datanp[depth-1,leaf-1]=tree.score(X_train, y_train)\n",
    "df = pd.DataFrame(data=datanp, index=[\"1\", \"2\", \"3\", \"4\", \"5\", \"6\", \"7\", \"8\", \"9\", \"10\"], \n",
    "                  columns=[\"1\", \"2\", \"3\", \"4\", \"5\", \"6\", \"7\", \"8\", \"9\", \"10\"])\n",
    "df"
   ]
  },
  {
   "cell_type": "code",
   "execution_count": 13,
   "metadata": {},
   "outputs": [],
   "source": [
    "### DZ2\n",
    "### Построить дерево решений для датасетов по вариантам, оформить блокноты с описанием задачи, признаков:\n",
    "### а) titanic.csv  (Описание https://www.kaggle.com/c/titanic/data)"
   ]
  },
  {
   "cell_type": "code",
   "execution_count": 14,
   "metadata": {
    "scrolled": true
   },
   "outputs": [
    {
     "name": "stdout",
     "output_type": "stream",
     "text": [
      "<class 'pandas.core.frame.DataFrame'>\n",
      "RangeIndex: 887 entries, 0 to 886\n",
      "Data columns (total 8 columns):\n",
      " #   Column                   Non-Null Count  Dtype  \n",
      "---  ------                   --------------  -----  \n",
      " 0   Survived                 887 non-null    int64  \n",
      " 1   Pclass                   887 non-null    int64  \n",
      " 2   Name                     887 non-null    object \n",
      " 3   Sex                      887 non-null    object \n",
      " 4   Age                      887 non-null    float64\n",
      " 5   Siblings/Spouses Aboard  887 non-null    int64  \n",
      " 6   Parents/Children Aboard  887 non-null    int64  \n",
      " 7   Fare                     887 non-null    float64\n",
      "dtypes: float64(2), int64(4), object(2)\n",
      "memory usage: 55.6+ KB\n",
      "0.7274193548387097\n",
      "0.6928838951310862\n"
     ]
    }
   ],
   "source": [
    "from IPython.display import Image\n",
    "from IPython.core.display import HTML\n",
    "\n",
    "data = pd.read_csv('titanic.csv', encoding=\"cp1251\")\n",
    "data.info()\n",
    "\n",
    "x=data[['Pclass',  'Age', 'Siblings/Spouses Aboard', 'Parents/Children Aboard']]\n",
    "y=data.values[::,0]\n",
    "y=y.astype('int')\n",
    "\n",
    "X_train, X_test, y_train, y_test = train_test_split(x, y, test_size=0.3)\n",
    "\n",
    "tree=DecisionTreeClassifier(max_depth=3, random_state=1)\n",
    "tree.fit(X_train, y_train)\n",
    "\n",
    "export_graphviz(tree, out_file='C:/Users/Ренат/Desktop/data_analysis/Homework03/Task2.dot', \n",
    "               rounded = True, proportion = False, \n",
    "                precision = 2, filled = True)\n",
    "\n",
    "(graph, ) = pydot.graph_from_dot_file('C:/Users/Ренат/Desktop/data_analysis/Homework03/Task2.dot')\n",
    "\n",
    "graph.write_png('C:/Users/Ренат/Desktop/data_analysis/Homework03/Task2.png')\n",
    "\n",
    "print(tree.score(X_train, y_train))\n",
    "print(tree.score(X_test, y_test))"
   ]
  }
 ],
 "metadata": {
  "kernelspec": {
   "display_name": "Python 3",
   "language": "python",
   "name": "python3"
  },
  "language_info": {
   "codemirror_mode": {
    "name": "ipython",
    "version": 3
   },
   "file_extension": ".py",
   "mimetype": "text/x-python",
   "name": "python",
   "nbconvert_exporter": "python",
   "pygments_lexer": "ipython3",
   "version": "3.7.6"
  }
 },
 "nbformat": 4,
 "nbformat_minor": 2
}
