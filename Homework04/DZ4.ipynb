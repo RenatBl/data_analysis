{
 "cells": [
  {
   "cell_type": "code",
   "execution_count": 1,
   "metadata": {},
   "outputs": [],
   "source": [
    "import numpy as np\n",
    "import pandas as pd\n",
    "import pylab as pl\n",
    "import matplotlib.pyplot as plt\n",
    "plt.style.use('ggplot')\n",
    "%matplotlib inline\n",
    "import seaborn as sns\n",
    "\n",
    "from sklearn.tree import DecisionTreeClassifier\n",
    "import sklearn.metrics as metrics\n",
    "from sklearn.model_selection import train_test_split\n",
    "from sklearn.linear_model import LogisticRegression\n",
    "df=pd.read_csv(\"ORGANICS.csv\",encoding=\"cp1251\")"
   ]
  },
  {
   "cell_type": "code",
   "execution_count": 2,
   "metadata": {},
   "outputs": [
    {
     "name": "stdout",
     "output_type": "stream",
     "text": [
      "(22223, 13)\n",
      "<class 'pandas.core.frame.DataFrame'>\n",
      "RangeIndex: 22223 entries, 0 to 22222\n",
      "Data columns (total 13 columns):\n",
      " #   Column           Non-Null Count  Dtype  \n",
      "---  ------           --------------  -----  \n",
      " 0   п»їID            22223 non-null  int64  \n",
      " 1   DemAffl          21138 non-null  float64\n",
      " 2   DemAge           20715 non-null  float64\n",
      " 3   DemCluster       21549 non-null  float64\n",
      " 4   DemClusterGroup  21549 non-null  object \n",
      " 5   DemGender        19711 non-null  object \n",
      " 6   DemReg           21758 non-null  object \n",
      " 7   DemTVReg         21758 non-null  object \n",
      " 8   PromClass        22223 non-null  object \n",
      " 9   PromSpend        22223 non-null  float64\n",
      " 10  PromTime         21942 non-null  float64\n",
      " 11  TargetBuy        22223 non-null  int64  \n",
      " 12  TargetAmt        22223 non-null  int64  \n",
      "dtypes: float64(5), int64(3), object(5)\n",
      "memory usage: 2.2+ MB\n"
     ]
    }
   ],
   "source": [
    "print(df.shape)\n",
    "df.info()\n",
    "df = df.fillna(df.median(axis=0), axis=0)"
   ]
  },
  {
   "cell_type": "code",
   "execution_count": 3,
   "metadata": {},
   "outputs": [
    {
     "name": "stdout",
     "output_type": "stream",
     "text": [
      "0.704965450747228\n",
      "0.4117647058823529\n",
      "0.4128205128205128\n",
      "0.41229193341869397\n",
      "0.607577995782988\n",
      "0.21533923570888058\n",
      "0.21533892105554497\n"
     ]
    }
   ],
   "source": [
    "x=df[['DemAffl',  'DemAge', 'DemCluster', 'PromSpend', 'PromTime']]\n",
    "y=df.values[::,11]\n",
    "x_train, x_test, y_train, y_test = train_test_split(x, y, test_size=0.28)\n",
    "y_train = y_train.astype(int)\n",
    "y_test = y_test.astype(int)\n",
    "\n",
    "tree=DecisionTreeClassifier(criterion='entropy', max_depth=30, min_samples_leaf=1)\n",
    "tree.fit(x_train, y_train)\n",
    "y_score = tree.predict(x_test)\n",
    "\n",
    "print(metrics.accuracy_score(y_test, y_score))\n",
    "print(metrics.recall_score(y_test, y_score))\n",
    "print(metrics.precision_score(y_test, y_score))\n",
    "print(metrics.f1_score(y_test, y_score))\n",
    "print(metrics.balanced_accuracy_score(y_test, y_score))\n",
    "print(metrics.matthews_corrcoef(y_test, y_score))\n",
    "print(metrics.cohen_kappa_score(y_test, y_score))"
   ]
  },
  {
   "cell_type": "code",
   "execution_count": 4,
   "metadata": {},
   "outputs": [
    {
     "name": "stdout",
     "output_type": "stream",
     "text": [
      "[[1. 0.]\n",
      " [0. 1.]\n",
      " [0. 1.]\n",
      " ...\n",
      " [0. 1.]\n",
      " [1. 0.]\n",
      " [1. 0.]]\n",
      "[0. 1. 1. ... 1. 0. 0.]\n"
     ]
    },
    {
     "data": {
      "image/png": "[encoded data removed]",
      "text/plain": [
       "<Figure size 432x288 with 1 Axes>"
      ]
     },
     "metadata": {
      "needs_background": "light"
     },
     "output_type": "display_data"
    }
   ],
   "source": [
    "probs = tree.predict_proba(x_test)\n",
    "print(probs)\n",
    "preds = probs[:,1]\n",
    "print(preds)\n",
    "fpr, tpr, threshold = metrics.roc_curve(y_test, preds)\n",
    "roc_auc = metrics.auc(fpr, tpr)\n",
    "\n",
    "plt.title('ROC')\n",
    "plt.plot(fpr, tpr, 'b', label = 'AUC = %0.2f' % roc_auc)\n",
    "plt.legend(loc = 'lower right')\n",
    "plt.plot([0, 1], [0, 1],'r--')\n",
    "plt.xlim([0, 1])\n",
    "plt.ylim([0, 1])\n",
    "plt.ylabel('True Positive Rate')\n",
    "plt.xlabel('False Positive Rate')\n",
    "plt.show()"
   ]
  },
  {
   "cell_type": "code",
   "execution_count": 5,
   "metadata": {},
   "outputs": [
    {
     "name": "stdout",
     "output_type": "stream",
     "text": [
      "0.7440141410895067\n",
      "0.6739130434782609\n",
      "0.4932147870846982\n",
      "0.5695757903269386\n",
      "0.7207298636579971\n",
      "0.40327785833255764\n",
      "0.3935665155482848\n"
     ]
    }
   ],
   "source": [
    "tree_balanced = DecisionTreeClassifier(criterion='entropy', max_depth=8, min_samples_leaf=50, class_weight='balanced')\n",
    "tree_balanced.fit(x_train, y_train)\n",
    "\n",
    "y_score = tree_balanced.predict(x_test)\n",
    "\n",
    "print(metrics.accuracy_score(y_test, y_score))\n",
    "print(metrics.recall_score(y_test, y_score))\n",
    "print(metrics.precision_score(y_test, y_score))\n",
    "print(metrics.f1_score(y_test, y_score))\n",
    "print(metrics.balanced_accuracy_score(y_test, y_score))\n",
    "print(metrics.matthews_corrcoef(y_test, y_score))\n",
    "print(metrics.cohen_kappa_score(y_test, y_score))"
   ]
  }
 ],
 "metadata": {
  "kernelspec": {
   "display_name": "Python 3",
   "language": "python",
   "name": "python3"
  },
  "language_info": {
   "codemirror_mode": {
    "name": "ipython",
    "version": 3
   },
   "file_extension": ".py",
   "mimetype": "text/x-python",
   "name": "python",
   "nbconvert_exporter": "python",
   "pygments_lexer": "ipython3",
   "version": "3.7.6"
  }
 },
 "nbformat": 4,
 "nbformat_minor": 2
}
